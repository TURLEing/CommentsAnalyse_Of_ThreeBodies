{
 "cells": [
  {
   "cell_type": "code",
   "execution_count": 1,
   "id": "87de125d",
   "metadata": {},
   "outputs": [],
   "source": [
    "import requests\n",
    "import json\n",
    "\n",
    "# My Baidu API_KEY\n",
    "API_KEY = \"paOOUhA7xzmcoeGPSFyajtZV\"\n",
    "SECRET_KEY = \"5mi86hR4k9SN8jwK3UsIbiM2XbvUt8Yz\"\n",
    "\n",
    "# Request POST\n",
    "def sentimentClassify(text):\n",
    "        \n",
    "    url = \"https://aip.baidubce.com/rpc/2.0/nlp/v1/sentiment_classify_custom?charset=UTF-8&access_token=\" + get_access_token()\n",
    "    \n",
    "    payload = json.dumps({\n",
    "        \"text\": text\n",
    "    })\n",
    "    headers = {\n",
    "        'Content-Type': 'application/json',\n",
    "        'Accept': 'application/json'\n",
    "    }\n",
    "    \n",
    "    response = requests.request(\"POST\", url, headers=headers, data=payload)\n",
    "    \n",
    "    return response.text\n",
    "    \n",
    "\n",
    "def get_access_token():\n",
    "    \"\"\"\n",
    "    使用 AK，SK 生成鉴权签名（Access Token）\n",
    "    :return: access_token，或是None(如果错误)\n",
    "    \"\"\"\n",
    "    url = \"https://aip.baidubce.com/oauth/2.0/token\"\n",
    "    params = {\"grant_type\": \"client_credentials\", \"client_id\": API_KEY, \"client_secret\": SECRET_KEY}\n",
    "    return str(requests.post(url, params=params).json().get(\"access_token\"))"
   ]
  },
  {
   "cell_type": "code",
   "execution_count": 43,
   "id": "cb125976",
   "metadata": {},
   "outputs": [],
   "source": [
    "import json\n",
    "\n",
    "# Input a positive sample\n",
    "text = '三体改编得很不错，它值得受到更多关注！'\n",
    "respond = sentimentClassify(text)"
   ]
  },
  {
   "cell_type": "code",
   "execution_count": 44,
   "id": "68f31166",
   "metadata": {},
   "outputs": [
    {
     "data": {
      "text/plain": [
       "{'log_id': 5791376257757303691,\n",
       " 'text': '三体改编得很不错，它值得受到更多关注！',\n",
       " 'items': [{'positive_prob': 0.641346,\n",
       "   'confidence': 0.202991,\n",
       "   'negative_prob': 0.358654,\n",
       "   'sentiment': 2}]}"
      ]
     },
     "execution_count": 44,
     "metadata": {},
     "output_type": "execute_result"
    }
   ],
   "source": [
    "# Invoking Baidu Sentiment Analysis API\n",
    "res = json.loads(respond)\n",
    "res"
   ]
  }
 ],
 "metadata": {
  "kernelspec": {
   "display_name": "Python 3 (ipykernel)",
   "language": "python",
   "name": "python3"
  },
  "language_info": {
   "codemirror_mode": {
    "name": "ipython",
    "version": 3
   },
   "file_extension": ".py",
   "mimetype": "text/x-python",
   "name": "python",
   "nbconvert_exporter": "python",
   "pygments_lexer": "ipython3",
   "version": "3.9.13"
  }
 },
 "nbformat": 4,
 "nbformat_minor": 5
}
