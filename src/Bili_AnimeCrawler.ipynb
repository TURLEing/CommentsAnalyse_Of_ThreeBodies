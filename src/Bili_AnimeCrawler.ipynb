{
 "cells": [
  {
   "cell_type": "code",
   "execution_count": 1,
   "id": "3b088f28",
   "metadata": {},
   "outputs": [],
   "source": [
    "from bilibili_api import bangumi, sync\n",
    "from bilibili_api import settings\n",
    "import numpy as np \n",
    "import nest_asyncio\n",
    " \n",
    "nest_asyncio.apply()"
   ]
  },
  {
   "cell_type": "markdown",
   "id": "fab8ed6b",
   "metadata": {},
   "source": [
    "### Invoking Bilibili-api & Loading all the short comments as raw dataset"
   ]
  },
  {
   "cell_type": "code",
   "execution_count": 2,
   "id": "7d700c2a",
   "metadata": {},
   "outputs": [],
   "source": [
    "async def main(media_id):\n",
    "    b = bangumi.Bangumi(media_id)\n",
    "    next = None\n",
    "    step = 0\n",
    "    cmts = []\n",
    "    cmt_X = np.array([])\n",
    "    cmt_y = np.array([])\n",
    "    while next != 0 and step<2000:\n",
    "        if step%10==0 :\n",
    "            print(\"Crawling at\", step//10)\n",
    "        step = step + 1\n",
    "        cm = await b.get_short_comment_list(next=next)\n",
    "        cmts.extend(cm['list'])\n",
    "        next = cm['next']\n",
    "\n",
    "    for cmt in cmts:\n",
    "        cmt_X = np.append(cmt_X, cmt['content'])\n",
    "        cmt_y = np.append(cmt_y, cmt['score'])\n",
    "    \n",
    "    return cmt_X, cmt_y"
   ]
  },
  {
   "cell_type": "code",
   "execution_count": 3,
   "id": "58351150",
   "metadata": {},
   "outputs": [
    {
     "name": "stdout",
     "output_type": "stream",
     "text": [
      "Crawling at 0\n",
      "Crawling at 1\n",
      "Crawling at 2\n",
      "Crawling at 3\n",
      "Crawling at 4\n",
      "Crawling at 5\n",
      "Crawling at 6\n",
      "Crawling at 7\n",
      "Crawling at 8\n",
      "Crawling at 9\n",
      "Crawling at 10\n",
      "Crawling at 11\n",
      "Crawling at 12\n",
      "Crawling at 13\n",
      "Crawling at 14\n",
      "Crawling at 15\n",
      "Crawling at 16\n",
      "Crawling at 17\n",
      "Crawling at 18\n",
      "Crawling at 19\n",
      "Crawling at 20\n",
      "Crawling at 21\n",
      "Crawling at 22\n",
      "Crawling at 23\n",
      "Crawling at 24\n",
      "Crawling at 25\n",
      "Crawling at 26\n",
      "Crawling at 27\n",
      "Crawling at 28\n",
      "Crawling at 29\n",
      "Crawling at 30\n",
      "Crawling at 31\n",
      "Crawling at 32\n",
      "Crawling at 33\n",
      "Crawling at 34\n",
      "Crawling at 35\n",
      "Crawling at 36\n",
      "Crawling at 37\n",
      "Crawling at 38\n",
      "Crawling at 39\n",
      "Crawling at 40\n",
      "Crawling at 41\n",
      "Crawling at 42\n",
      "Crawling at 43\n",
      "Crawling at 44\n",
      "Crawling at 45\n",
      "Crawling at 46\n",
      "Crawling at 47\n",
      "Crawling at 48\n",
      "Crawling at 49\n",
      "Crawling at 50\n",
      "Crawling at 51\n",
      "Crawling at 52\n",
      "Crawling at 53\n",
      "Crawling at 54\n",
      "Crawling at 55\n",
      "Crawling at 56\n",
      "Crawling at 57\n",
      "Crawling at 58\n",
      "Crawling at 59\n",
      "Crawling at 60\n",
      "Crawling at 61\n",
      "Crawling at 62\n"
     ]
    }
   ],
   "source": [
    "X, y = sync(main(4315402))"
   ]
  },
  {
   "cell_type": "code",
   "execution_count": 4,
   "id": "15313944",
   "metadata": {
    "scrolled": false
   },
   "outputs": [
    {
     "data": {
      "text/plain": [
       "3152"
      ]
     },
     "execution_count": 4,
     "metadata": {},
     "output_type": "execute_result"
    }
   ],
   "source": [
    "np.sum(y<6)"
   ]
  },
  {
   "cell_type": "code",
   "execution_count": 5,
   "id": "8828d2d2",
   "metadata": {},
   "outputs": [
    {
     "data": {
      "text/plain": [
       "84764.0"
      ]
     },
     "execution_count": 5,
     "metadata": {},
     "output_type": "execute_result"
    }
   ],
   "source": [
    "np.sum(y)"
   ]
  },
  {
   "cell_type": "code",
   "execution_count": 6,
   "id": "d80e003a",
   "metadata": {},
   "outputs": [
    {
     "data": {
      "text/plain": [
       "'长评已更新'"
      ]
     },
     "execution_count": 6,
     "metadata": {},
     "output_type": "execute_result"
    }
   ],
   "source": [
    "X[0]"
   ]
  },
  {
   "cell_type": "markdown",
   "id": "f31d91f2",
   "metadata": {},
   "source": [
    "###  Datasets Format Transformation through the Pandas Library"
   ]
  },
  {
   "cell_type": "code",
   "execution_count": 7,
   "id": "b8bb8a11",
   "metadata": {},
   "outputs": [],
   "source": [
    "from pandas import DataFrame\n",
    "\n",
    "data = { 'label': (y>=6), 'score': y, 'content': X }\n",
    "df = DataFrame(data)\n",
    "df.to_excel('../corpus/BiliAnimeReviews.xlsx')\n",
    "# 全部导入 xlsx 文档中\n"
   ]
  },
  {
   "cell_type": "code",
   "execution_count": 8,
   "id": "8e09b4d1",
   "metadata": {},
   "outputs": [
    {
     "data": {
      "text/plain": [
       "array(['赞！期待！', '能出来就是胜利',\n",
       "       '第三集刚看完，确实觉得时长不够，又要等一周了。几年前看完小说，小说细节有点模糊，三集下来感觉还不错的，几个场景印象很深，三体游戏，古筝行动 ，粒子对撞实验，剧情和画面都挺流畅，会员不亏！',\n",
       "       ..., '这集和前几集串一起的话还是不错的', '它还原了很多书上的内容，不喜欢看书的，可以来看这个', '反正符合我的预期！'],\n",
       "      dtype='<U100')"
      ]
     },
     "execution_count": 8,
     "metadata": {},
     "output_type": "execute_result"
    }
   ],
   "source": [
    "# Consider positive texts as comments whose rating is greater than 6\n",
    "X_pos = X[y>6]\n",
    "X_pos"
   ]
  },
  {
   "cell_type": "code",
   "execution_count": 9,
   "id": "8658664c",
   "metadata": {},
   "outputs": [
    {
     "data": {
      "text/plain": [
       "array(['长评已更新', '有提升空间', '目前看来在预期之内，后续观望', ...,\n",
       "       '预测分数可能在8分以上，所以我打了8分 // 瓶皇都不装了，那我也没必要客气了', '三星观望一下',\n",
       "       '如果不叫三体还好，但这就不是三体'], dtype='<U100')"
      ]
     },
     "execution_count": 9,
     "metadata": {},
     "output_type": "execute_result"
    }
   ],
   "source": [
    "# Consider negative texts as comments whose rating is the opposent\n",
    "X_neg = X[y<=6]\n",
    "X_neg"
   ]
  },
  {
   "cell_type": "code",
   "execution_count": 10,
   "id": "18b986ab",
   "metadata": {},
   "outputs": [],
   "source": [
    "# save corpus in txt documents\n",
    "np.savetxt('../corpus/pos.txt', X_pos, encoding='utf-8', fmt='%s')\n",
    "np.savetxt('../corpus/neg.txt', X_neg, encoding='utf-8', fmt='%s')"
   ]
  },
  {
   "cell_type": "markdown",
   "id": "98d6ea9c",
   "metadata": {},
   "source": [
    "### Design two extreme categories for pos & neg"
   ]
  },
  {
   "cell_type": "code",
   "execution_count": 11,
   "id": "77ba819f",
   "metadata": {},
   "outputs": [],
   "source": [
    "X_pos_extreme = X[y>=8]\n",
    "X_neg_extreme = X[y<=2]"
   ]
  },
  {
   "cell_type": "code",
   "execution_count": 13,
   "id": "606ee5e2",
   "metadata": {},
   "outputs": [],
   "source": [
    "np.savetxt('../corpus/pos_ex.txt', X_pos_extreme, encoding='utf-8', fmt='%s')\n",
    "np.savetxt('../corpus/neg_ex.txt', X_neg_extreme, encoding='utf-8', fmt='%s')"
   ]
  }
 ],
 "metadata": {
  "kernelspec": {
   "display_name": "Python 3 (ipykernel)",
   "language": "python",
   "name": "python3"
  },
  "language_info": {
   "codemirror_mode": {
    "name": "ipython",
    "version": 3
   },
   "file_extension": ".py",
   "mimetype": "text/x-python",
   "name": "python",
   "nbconvert_exporter": "python",
   "pygments_lexer": "ipython3",
   "version": "3.9.13"
  }
 },
 "nbformat": 4,
 "nbformat_minor": 5
}
